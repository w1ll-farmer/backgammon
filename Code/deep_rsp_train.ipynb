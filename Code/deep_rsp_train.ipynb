{
 "cells": [
  {
   "cell_type": "markdown",
   "metadata": {},
   "source": [
    "# Import"
   ]
  },
  {
   "cell_type": "code",
   "execution_count": 6,
   "metadata": {},
   "outputs": [],
   "source": [
    "from tqdm import tqdm\n",
    "import os\n",
    "import numpy as np\n",
    "import torch\n",
    "from torch import optim\n",
    "from torch.utils.data import Dataset, DataLoader, TensorDataset, random_split\n",
    "import torchvision\n",
    "import torch.nn as nn\n",
    "import torch.nn.functional as F\n",
    "import pandas as pd\n",
    "\n",
    "from main import backgammon"
   ]
  },
  {
   "cell_type": "markdown",
   "metadata": {},
   "source": [
    "# Import datasets"
   ]
  },
  {
   "cell_type": "code",
   "execution_count": null,
   "metadata": {},
   "outputs": [
    {
     "name": "stdout",
     "output_type": "stream",
     "text": [
      "Input shape: torch.Size([64, 578])\n",
      "Labels shape: torch.Size([64, 1])\n"
     ]
    }
   ],
   "source": [
    "def load_dataset(file_path):\n",
    "    # Load CSV using pandas\n",
    "    df = pd.read_csv(file_path)\n",
    "    \n",
    "    # Split into features and labels\n",
    "    data = df.values\n",
    "    X = torch.tensor(data[:, :-1], dtype=torch.float32)\n",
    "    y = torch.tensor(data[:, -1], dtype=torch.float32).unsqueeze(1)  # Ensure shape (N, 1)\n",
    "    \n",
    "    return TensorDataset(X, y)\n",
    "\n",
    "train_file = os.path.join(\"..\",\"Data\",\"Deep\",\"RSP\",'train.txt')\n",
    "# validation_file = os.path.join(\"..\",\"Data\",\"Deep\",\"RSP\",'validation.txt')\n",
    "test_file = os.path.join(\"..\",\"Data\",\"Deep\",\"RSP\",'test.txt')\n",
    "\n",
    "train_dataset = load_dataset(train_file)\n",
    "# validation_dataset = load_dataset(validation_file)\n",
    "test_dataset = load_dataset(test_file)\n",
    "\n",
    "train_loader = DataLoader(train_dataset, batch_size=64, shuffle=True)\n",
    "# val_loader = DataLoader(validation_dataset, batch_size=64)\n",
    "test_loader = DataLoader(test_dataset, batch_size=64)\n",
    "\n",
    "# Example: iterate over a batch from the train set\n",
    "for X_batch, y_batch in train_loader:\n",
    "    print(\"Input shape:\", X_batch.shape)\n",
    "    print(\"Labels shape:\", y_batch.shape)\n",
    "    break"
   ]
  },
  {
   "cell_type": "code",
   "execution_count": 8,
   "metadata": {},
   "outputs": [],
   "source": [
    "## BGNET HERE ##\n",
    "class BGNet(nn.Module):\n",
    "    def __init__(self):\n",
    "            super(BGNet, self).__init__()\n",
    "            self.fc1 = nn.Linear(289, 12)  # Fully connected input → hidden\n",
    "            self.fc2 = nn.Linear(12, 1)    # Fully connected hidden → output\n",
    "\n",
    "    def forward(self, x):\n",
    "        x = torch.tanh(self.fc1(x))        # Apply tanh to hidden layer\n",
    "        x = self.fc2(x) \n",
    "        return x"
   ]
  },
  {
   "cell_type": "markdown",
   "metadata": {},
   "source": [
    "## Training loop"
   ]
  },
  {
   "cell_type": "code",
   "execution_count": 14,
   "metadata": {},
   "outputs": [
    {
     "name": "stdout",
     "output_type": "stream",
     "text": [
      "Epoch 010:\n",
      "  Train Loss: nan\n",
      "  Test  Loss: nan\n",
      "\n",
      "Epoch 020:\n",
      "  Train Loss: nan\n",
      "  Test  Loss: nan\n",
      "\n",
      "Epoch 030:\n",
      "  Train Loss: nan\n",
      "  Test  Loss: nan\n",
      "\n",
      "Epoch 040:\n",
      "  Train Loss: nan\n",
      "  Test  Loss: nan\n",
      "\n",
      "Epoch 050:\n",
      "  Train Loss: nan\n",
      "  Test  Loss: nan\n",
      "\n",
      "Epoch 060:\n",
      "  Train Loss: nan\n",
      "  Test  Loss: nan\n",
      "\n",
      "Epoch 070:\n",
      "  Train Loss: nan\n",
      "  Test  Loss: nan\n",
      "\n",
      "Epoch 080:\n",
      "  Train Loss: nan\n",
      "  Test  Loss: nan\n",
      "\n",
      "Epoch 090:\n",
      "  Train Loss: nan\n",
      "  Test  Loss: nan\n",
      "\n",
      "Epoch 100:\n",
      "  Train Loss: nan\n",
      "  Test  Loss: nan\n",
      "\n"
     ]
    }
   ],
   "source": [
    "import torch\n",
    "import torch.nn as nn\n",
    "import torch.optim as optim\n",
    "\n",
    "# Assume: model is your instance of BGNet\n",
    "model = BGNet()\n",
    "\n",
    "# Loss function: Binary Cross-Entropy (good for sigmoid output)\n",
    "criterion = nn.MSELoss()\n",
    "\n",
    "# Optimizer\n",
    "optimizer = optim.Adam(model.parameters(), lr=0.001)\n",
    "\n",
    "# Training settings\n",
    "num_epochs = 100  # Change as needed\n",
    "device = torch.device('cuda' if torch.cuda.is_available() else 'cpu')\n",
    "model.to(device)\n",
    "\n",
    "def evaluate(model, data_loader):\n",
    "    model.eval()\n",
    "    total_loss = 0\n",
    "    correct = 0\n",
    "    total = 0\n",
    "    with torch.no_grad():\n",
    "        for X_batch, y_batch in data_loader:\n",
    "            X_batch, y_batch = X_batch.to(device), y_batch.to(device)\n",
    "            outputs = model(X_batch[:, :289])\n",
    "            loss = criterion(outputs.squeeze(), y_batch.squeeze())\n",
    "            total_loss += loss.item() * y_batch.size(0)\n",
    "\n",
    "            # preds = outputs.float()\n",
    "            # correct += (preds == y_batch).sum().item()\n",
    "            total += y_batch.size(0)\n",
    "    \n",
    "    avg_loss = total_loss / total\n",
    "    # accuracy = correct / total\n",
    "    return avg_loss#, accuracy\n",
    "\n",
    "# === Training Loop ===\n",
    "for epoch in range(1, num_epochs + 1):\n",
    "    model.train()\n",
    "    running_loss = 0\n",
    "    correct = 0\n",
    "    total = 0\n",
    "\n",
    "    for X_batch, y_batch in train_loader:\n",
    "        X_batch, y_batch = X_batch.to(device), y_batch.to(device)\n",
    "        \n",
    "        board = X_batch[:, :289]\n",
    "\n",
    "        outputs = model(board)\n",
    "        loss = criterion(outputs.squeeze(), y_batch.squeeze())\n",
    "\n",
    "        \n",
    "        optimizer.zero_grad()\n",
    "        loss.backward()\n",
    "        optimizer.step()\n",
    "        \n",
    "        running_loss += loss.item() * y_batch.size(0)\n",
    "\n",
    "        # For training accuracy\n",
    "        # preds = (outputs > 0.5).float()\n",
    "        # correct += (preds == y_batch).sum().item()\n",
    "        total += y_batch.size(0)\n",
    "\n",
    "    avg_train_loss = running_loss / total\n",
    "    # train_acc = correct / total\n",
    "\n",
    "    if epoch % 10 == 0:\n",
    "        test_loss = evaluate(model, test_loader)\n",
    "        \n",
    "        print(f\"Epoch {epoch:03d}:\")\n",
    "        print(f\"  Train Loss: {avg_train_loss:.4f}\")\n",
    "        print(f\"  Test  Loss: {test_loss:.4f}\\n\")\n",
    "\n",
    "    torch.save(model.state_dict(), \"RSPbackgammon_model.pth\")\n"
   ]
  }
 ],
 "metadata": {
  "kernelspec": {
   "display_name": "Python 3",
   "language": "python",
   "name": "python3"
  },
  "language_info": {
   "codemirror_mode": {
    "name": "ipython",
    "version": 3
   },
   "file_extension": ".py",
   "mimetype": "text/x-python",
   "name": "python",
   "nbconvert_exporter": "python",
   "pygments_lexer": "ipython3",
   "version": "3.9.12"
  }
 },
 "nbformat": 4,
 "nbformat_minor": 2
}
