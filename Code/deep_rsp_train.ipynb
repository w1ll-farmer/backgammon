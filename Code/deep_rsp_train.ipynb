{
 "cells": [
  {
   "cell_type": "markdown",
   "metadata": {},
   "source": [
    "# Import"
   ]
  },
  {
   "cell_type": "code",
   "execution_count": null,
   "metadata": {},
   "outputs": [],
   "source": [
    "from tqdm import tqdm\n",
    "import os\n",
    "import numpy as np\n",
    "import torch\n",
    "from torch import optim\n",
    "from torch.utils.data import Dataset, DataLoader, TensorDataset, random_split\n",
    "import torchvision\n",
    "import torch.nn as nn\n",
    "import torch.nn.functional as F\n",
    "import pandas as pd\n",
    "\n",
    "from main import backgammon"
   ]
  },
  {
   "cell_type": "markdown",
   "metadata": {},
   "source": [
    "# Import datasets"
   ]
  },
  {
   "cell_type": "code",
   "execution_count": null,
   "metadata": {},
   "outputs": [],
   "source": [
    "def load_dataset(file_path):\n",
    "    # Load CSV using pandas\n",
    "    df = pd.read_csv(file_path)\n",
    "    \n",
    "    # Split into features and labels\n",
    "    data = df.values\n",
    "    X = torch.tensor(data[:, :-1], dtype=torch.float32)\n",
    "    y = torch.tensor(data[:, -1], dtype=torch.float32).unsqueeze(1)  # Ensure shape (N, 1)\n",
    "    \n",
    "    return TensorDataset(X, y)\n",
    "\n",
    "train_file = os.path.join(\"..\",\"Data\",\"Deep\",\"BoardEquity\",'train.txt')\n",
    "validation_file = os.path.join(\"..\",\"Data\",\"Deep\",\"BoardEquity\",'validation.txt')\n",
    "test_file = os.path.join(\"..\",\"Data\",\"Deep\",\"BoardEquity\",'train.txt')\n",
    "\n",
    "train_dataset = load_dataset(train_file)\n",
    "validation_dataset = load_dataset(validation_file)\n",
    "test_dataset = load_dataset(test_file)\n",
    "\n",
    "train_loader = DataLoader(train_dataset, batch_size=64, shuffle=True)\n",
    "val_loader = DataLoader(validation_dataset, batch_size=64)\n",
    "test_loader = DataLoader(test_dataset, batch_size=64)\n",
    "\n",
    "# Example: iterate over a batch from the train set\n",
    "for X_batch, y_batch in train_loader:\n",
    "    print(\"Input shape:\", X_batch.shape)\n",
    "    print(\"Labels shape:\", y_batch.shape)\n",
    "    break"
   ]
  },
  {
   "cell_type": "code",
   "execution_count": null,
   "metadata": {},
   "outputs": [],
   "source": [
    "## BGNET HERE ##"
   ]
  },
  {
   "cell_type": "markdown",
   "metadata": {},
   "source": [
    "## Training loop"
   ]
  },
  {
   "cell_type": "code",
   "execution_count": null,
   "metadata": {},
   "outputs": [],
   "source": [
    "import torch\n",
    "import torch.nn as nn\n",
    "import torch.optim as optim\n",
    "\n",
    "# Assume: model is your instance of BGNet\n",
    "model = BGNet()\n",
    "\n",
    "# Loss function: Binary Cross-Entropy (good for sigmoid output)\n",
    "criterion = nn.BCELoss()\n",
    "\n",
    "# Optimizer\n",
    "optimizer = optim.Adam(model.parameters(), lr=0.001)\n",
    "\n",
    "# Training settings\n",
    "num_epochs = 100  # Change as needed\n",
    "device = torch.device('cuda' if torch.cuda.is_available() else 'cpu')\n",
    "model.to(device)\n",
    "\n",
    "def evaluate(model, data_loader):\n",
    "    model.eval()\n",
    "    total_loss = 0\n",
    "    correct = 0\n",
    "    total = 0\n",
    "    with torch.no_grad():\n",
    "        for X_batch, y_batch in data_loader:\n",
    "            X_batch, y_batch = X_batch.to(device), y_batch.to(device)\n",
    "            outputs = model(X_batch[:, :289], X_batch[:, 289:])\n",
    "            loss = criterion(outputs, y_batch)\n",
    "            total_loss += loss.item() * y_batch.size(0)\n",
    "\n",
    "            preds = (outputs > 0.5).float()\n",
    "            correct += (preds == y_batch).sum().item()\n",
    "            total += y_batch.size(0)\n",
    "    \n",
    "    avg_loss = total_loss / total\n",
    "    accuracy = correct / total\n",
    "    return avg_loss, accuracy\n",
    "\n",
    "# === Training Loop ===\n",
    "for epoch in range(1, num_epochs + 1):\n",
    "    model.train()\n",
    "    running_loss = 0\n",
    "    correct = 0\n",
    "    total = 0\n",
    "\n",
    "    for X_batch, y_batch in train_loader:\n",
    "        X_batch, y_batch = X_batch.to(device), y_batch.to(device)\n",
    "        \n",
    "        board_left = X_batch[:, :289]\n",
    "        board_right = X_batch[:, 289:]\n",
    "\n",
    "        outputs = model(board_left, board_right)\n",
    "        loss = criterion(outputs, y_batch)\n",
    "        \n",
    "        optimizer.zero_grad()\n",
    "        loss.backward()\n",
    "        optimizer.step()\n",
    "        \n",
    "        running_loss += loss.item() * y_batch.size(0)\n",
    "\n",
    "        # For training accuracy\n",
    "        preds = (outputs > 0.5).float()\n",
    "        correct += (preds == y_batch).sum().item()\n",
    "        total += y_batch.size(0)\n",
    "\n",
    "    avg_train_loss = running_loss / total\n",
    "    train_acc = correct / total\n",
    "\n",
    "    if epoch % 10 == 0:\n",
    "        val_loss, val_acc = evaluate(model, val_loader)\n",
    "        test_loss, test_acc = evaluate(model, test_loader)\n",
    "        \n",
    "        print(f\"Epoch {epoch:03d}:\")\n",
    "        print(f\"  Train Loss: {avg_train_loss:.4f}, Accuracy: {train_acc*100:.2f}%\")\n",
    "        print(f\"  Val   Loss: {val_loss:.4f}, Accuracy: {val_acc*100:.2f}%\")\n",
    "        print(f\"  Test  Loss: {test_loss:.4f}, Accuracy: {test_acc*100:.2f}%\\n\")\n",
    "\n",
    "    torch.save(model.state_dict(), \"backgammon_model.pth\")\n"
   ]
  }
 ],
 "metadata": {
  "language_info": {
   "name": "python"
  }
 },
 "nbformat": 4,
 "nbformat_minor": 2
}
