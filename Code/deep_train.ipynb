{
 "cells": [
  {
   "cell_type": "markdown",
   "metadata": {},
   "source": [
    "# Initial Import"
   ]
  },
  {
   "cell_type": "code",
   "execution_count": 7,
   "metadata": {},
   "outputs": [],
   "source": [
    "from tqdm import tqdm\n",
    "import os\n",
    "import numpy as np\n",
    "import torch\n",
    "from torch import optim\n",
    "from torch.utils.data import Dataset, DataLoader, random_split\n",
    "import torchvision\n",
    "import torch.nn as nn\n",
    "import torch.nn.functional as F\n",
    "import pandas as pd\n",
    "from sklearn.model_selection import train_test_split\n",
    "\n",
    "from main import backgammon"
   ]
  },
  {
   "cell_type": "markdown",
   "metadata": {},
   "source": [
    "## Import Dataset"
   ]
  },
  {
   "cell_type": "code",
   "execution_count": 8,
   "metadata": {},
   "outputs": [],
   "source": [
    "class BackgammonDataset(Dataset):\n",
    "    def __init__(self, file_path):\n",
    "        # Load CSV file\n",
    "        data = pd.read_csv(file_path, header=None)  # No header in dataset\n",
    "\n",
    "        # Convert to numpy arrays\n",
    "        self.X = data.iloc[:, :-1].values.astype(np.float32)  # First 28 columns as input\n",
    "        self.y = data.iloc[:, -1].values.astype(np.float32)   # Last column as output\n",
    "\n",
    "    def __len__(self):\n",
    "        return len(self.X)\n",
    "\n",
    "    def __getitem__(self, idx):\n",
    "        return torch.tensor(self.X[idx]), torch.tensor(self.y[idx])\n",
    "\n",
    "# 2️⃣ Split Dataset into Training (80%) and Testing (20%)\n",
    "def get_dataloaders(file_path, batch_size=32, test_size=0.2):\n",
    "    dataset = BackgammonDataset(file_path)\n",
    "\n",
    "    # Split indices into training and testing\n",
    "    train_size = int((1 - test_size) * len(dataset))\n",
    "    test_size = len(dataset) - train_size\n",
    "    train_dataset, test_dataset = random_split(dataset, [train_size, test_size])\n",
    "\n",
    "    # Create DataLoaders\n",
    "    train_loader = DataLoader(train_dataset, batch_size=batch_size, shuffle=True)\n",
    "    test_loader = DataLoader(test_dataset, batch_size=batch_size, shuffle=False)\n",
    "\n",
    "    return train_loader, test_loader"
   ]
  },
  {
   "cell_type": "code",
   "execution_count": 9,
   "metadata": {},
   "outputs": [],
   "source": [
    "class BackgammonNet(nn.Module):\n",
    "    def __init__(self):\n",
    "        super(BackgammonNet, self).__init__()\n",
    "        self.model = nn.Sequential(\n",
    "            nn.Linear(28, 64),\n",
    "            nn.ReLU(),\n",
    "            nn.Linear(64, 32),\n",
    "            nn.ReLU(),\n",
    "            nn.Linear(32, 1)\n",
    "        )\n",
    "\n",
    "    def forward(self, x):\n",
    "        return self.model(x)"
   ]
  },
  {
   "cell_type": "code",
   "execution_count": 10,
   "metadata": {},
   "outputs": [],
   "source": [
    "def get_dataloaders(file_path, batch_size=32, test_size=0.2):\n",
    "    dataset = BackgammonDataset(file_path)\n",
    "\n",
    "    # Split indices into training and testing\n",
    "    train_size = int((1 - test_size) * len(dataset))\n",
    "    test_size = len(dataset) - train_size\n",
    "    train_dataset, test_dataset = random_split(dataset, [train_size, test_size])\n",
    "\n",
    "    # Create DataLoaders\n",
    "    train_loader = DataLoader(train_dataset, batch_size=batch_size, shuffle=True)\n",
    "    test_loader = DataLoader(test_dataset, batch_size=batch_size, shuffle=False)\n",
    "\n",
    "    return train_loader, test_loader\n"
   ]
  },
  {
   "cell_type": "code",
   "execution_count": 11,
   "metadata": {},
   "outputs": [],
   "source": [
    "from time import sleep\n",
    "# 3️⃣ Define Neural Network Model\n",
    "class BackgammonNet(nn.Module):\n",
    "    def __init__(self):\n",
    "        super(BackgammonNet, self).__init__()\n",
    "        \n",
    "        self.model = nn.Sequential(\n",
    "            nn.Linear(28, 128),\n",
    "            nn.BatchNorm1d(128),\n",
    "            nn.ReLU(),\n",
    "            nn.Linear(128, 64),\n",
    "            nn.BatchNorm1d(64),\n",
    "            nn.ReLU(),\n",
    "            # nn.Dropout(0.3),\n",
    "            \n",
    "            nn.Linear(64, 32),\n",
    "            nn.BatchNorm1d(32),\n",
    "            nn.ReLU(),\n",
    "            # nn.Dropout(0.3),\n",
    "            \n",
    "            nn.Linear(32, 1)\n",
    "        )\n",
    "\n",
    "    def forward(self, x):\n",
    "        return self.model(x)\n",
    "\n",
    "# 4️⃣ Train the Model\n",
    "def train_model(train_loader, test_loader, epochs=50, lr=0.001):\n",
    "    model = BackgammonNet()\n",
    "    criterion = nn.MSELoss()  # Mean Squared Error for regression\n",
    "    optimizer = optim.Adam(model.parameters(), lr=lr)\n",
    "\n",
    "    for epoch in range(epochs):\n",
    "        model.train()\n",
    "        total_loss = 0\n",
    "\n",
    "        for inputs, targets in train_loader:\n",
    "            optimizer.zero_grad()\n",
    "            outputs = model(inputs)\n",
    "            loss = criterion(outputs.squeeze(), targets)\n",
    "            loss.backward()\n",
    "            optimizer.step()\n",
    "            total_loss += loss.item()\n",
    "\n",
    "        # Evaluate on test data\n",
    "        model.eval()\n",
    "        test_loss = 0\n",
    "        with torch.no_grad():\n",
    "            for inputs, targets in test_loader:\n",
    "                outputs = model(inputs)\n",
    "                loss = criterion(outputs.squeeze(), targets)\n",
    "                test_loss += loss.item()\n",
    "        if epoch % 10 == 9:\n",
    "            print(f\"Epoch {epoch+1}/{epochs}, Train Loss: {total_loss:.4f}, Test Loss: {test_loss:.4f}\")\n",
    "            torch.save(model.state_dict(), f\"backgammon_model_{epoch}.pth\")\n",
    "            # sleep(0.1)\n",
    "            fitness = backgammon(25, \"DEEP\",epoch)\n",
    "            print(fitness)\n",
    "    return model"
   ]
  },
  {
   "cell_type": "code",
   "execution_count": 12,
   "metadata": {},
   "outputs": [
    {
     "name": "stdout",
     "output_type": "stream",
     "text": [
      "Epoch 100/500, Train Loss: 0.6729, Test Loss: 0.2404\n",
      "([1, 0, 0], 1, [1, 0, 8], 25)\n",
      "Epoch 200/500, Train Loss: 0.5608, Test Loss: 0.2521\n",
      "([0, 0, 0], 0, [0, 0, 9], 27)\n",
      "Epoch 300/500, Train Loss: 0.4203, Test Loss: 0.2336\n",
      "([0, 0, 0], 0, [0, 0, 9], 27)\n",
      "Epoch 400/500, Train Loss: 0.3998, Test Loss: 0.2368\n",
      "([0, 0, 0], 0, [0, 0, 9], 27)\n",
      "Epoch 500/500, Train Loss: 0.3606, Test Loss: 0.2307\n",
      "([0, 0, 0], 0, [0, 0, 9], 27)\n",
      "Model training complete and saved.\n"
     ]
    }
   ],
   "source": [
    "if __name__ == \"__main__\":\n",
    "    file_path = \"../Data/Deep/BoardEquity/board_equity_db.txt\"  # Update with actual dataset file\n",
    "    train_loader, test_loader = get_dataloaders(file_path, batch_size=64)\n",
    "    \n",
    "    trained_model = train_model(train_loader, test_loader, epochs=100)\n",
    "    \n",
    "    # Save the trained model\n",
    "    torch.save(trained_model.state_dict(), \"backgammon_model.pth\")\n",
    "    print(\"Model training complete and saved.\")"
   ]
  },
  {
   "cell_type": "code",
   "execution_count": null,
   "metadata": {},
   "outputs": [],
   "source": []
  }
 ],
 "metadata": {
  "kernelspec": {
   "display_name": "Python 3",
   "language": "python",
   "name": "python3"
  },
  "language_info": {
   "codemirror_mode": {
    "name": "ipython",
    "version": 3
   },
   "file_extension": ".py",
   "mimetype": "text/x-python",
   "name": "python",
   "nbconvert_exporter": "python",
   "pygments_lexer": "ipython3",
   "version": "3.9.12"
  }
 },
 "nbformat": 4,
 "nbformat_minor": 2
}
