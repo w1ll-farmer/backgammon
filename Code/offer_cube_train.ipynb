{
 "cells": [
  {
   "cell_type": "markdown",
   "metadata": {},
   "source": [
    "# Initial Import"
   ]
  },
  {
   "cell_type": "code",
   "execution_count": 1,
   "metadata": {},
   "outputs": [
    {
     "name": "stderr",
     "output_type": "stream",
     "text": [
      "/Applications/anaconda3/lib/python3.9/site-packages/pandas/core/computation/expressions.py:21: UserWarning: Pandas requires version '2.8.4' or newer of 'numexpr' (version '2.8.1' currently installed).\n",
      "  from pandas.core.computation.check import NUMEXPR_INSTALLED\n"
     ]
    }
   ],
   "source": [
    "from tqdm import tqdm\n",
    "import os\n",
    "import numpy as np\n",
    "import torch\n",
    "from torch import optim\n",
    "from torch.utils.data import Dataset, DataLoader, TensorDataset, random_split\n",
    "import torchvision\n",
    "import torch.nn as nn\n",
    "import torch.nn.functional as F\n",
    "import pandas as pd\n",
    "\n",
    "# from main import backgammon"
   ]
  },
  {
   "cell_type": "markdown",
   "metadata": {},
   "source": [
    "## Import Dataset"
   ]
  },
  {
   "cell_type": "code",
   "execution_count": 2,
   "metadata": {},
   "outputs": [
    {
     "name": "stdout",
     "output_type": "stream",
     "text": [
      "Epoch 10, Test Accuracy: 0.9157\n",
      "Epoch 20, Test Accuracy: 0.9302\n",
      "Epoch 30, Test Accuracy: 0.9323\n",
      "Epoch 40, Test Accuracy: 0.9299\n",
      "Epoch 50, Test Accuracy: 0.9309\n",
      "Epoch 60, Test Accuracy: 0.9294\n",
      "Epoch 70, Test Accuracy: 0.9267\n",
      "Epoch 80, Test Accuracy: 0.9251\n",
      "Epoch 90, Test Accuracy: 0.9196\n",
      "Epoch 100, Test Accuracy: 0.9212\n"
     ]
    }
   ],
   "source": [
    "import torch\n",
    "import torch.nn as nn\n",
    "import torch.optim as optim\n",
    "from torch.utils.data import DataLoader, TensorDataset\n",
    "import numpy as np\n",
    "import os\n",
    "\n",
    "# Load data\n",
    "def load_dataset(path):\n",
    "    data = np.loadtxt(path, delimiter=\",\")\n",
    "    X = torch.tensor(data[:, :-1], dtype=torch.float32)\n",
    "    y = torch.tensor(data[:, -1], dtype=torch.float32).unsqueeze(1)\n",
    "    return TensorDataset(X, y)\n",
    "\n",
    "train_data = load_dataset(os.path.join(\"..\",\"Data\",\"Deep\",\"Cube\",\"Offer\",\"train.txt\"))\n",
    "test_data = load_dataset(os.path.join(\"..\",\"Data\",\"Deep\",\"Cube\",\"Offer\",\"test.txt\"))\n",
    "\n",
    "train_loader = DataLoader(train_data, batch_size=64, shuffle=True)\n",
    "test_loader = DataLoader(test_data, batch_size=64)\n",
    "\n",
    "# Model\n",
    "class Net(nn.Module):\n",
    "    def __init__(self):\n",
    "        super(Net, self).__init__()\n",
    "        self.fc1 = nn.Linear(289, 12)\n",
    "        self.fc2 = nn.Linear(12, 1)\n",
    "\n",
    "    def forward(self, x):\n",
    "        x = F.relu(self.fc1(x))\n",
    "        x = torch.sigmoid(self.fc2(x))\n",
    "        return x\n",
    "\n",
    "device = torch.device(\"cuda\" if torch.cuda.is_available() else \"cpu\")\n",
    "model = Net().to(device)\n",
    "criterion = nn.BCELoss()\n",
    "optimizer = optim.Adam(model.parameters(), lr=0.001)\n",
    "\n",
    "# Training loop\n",
    "for epoch in range(1, 101):\n",
    "    model.train()\n",
    "    for X_batch, y_batch in train_loader:\n",
    "        X_batch, y_batch = X_batch.to(device), y_batch.to(device)\n",
    "        outputs = model(X_batch)\n",
    "        loss = criterion(outputs, y_batch)\n",
    "        optimizer.zero_grad()\n",
    "        loss.backward()\n",
    "        optimizer.step()\n",
    "\n",
    "    if epoch % 10 == 0:\n",
    "        model.eval()\n",
    "        correct = total = 0\n",
    "        with torch.no_grad():\n",
    "            for X_test, y_test in test_loader:\n",
    "                X_test, y_test = X_test.to(device), y_test.to(device)\n",
    "                outputs = model(X_test)\n",
    "                predictions = (outputs > 0.5).float()\n",
    "                correct += (predictions == y_test).sum().item()\n",
    "                total += y_test.size(0)\n",
    "        accuracy = correct / total\n",
    "        print(f\"Epoch {epoch}, Test Accuracy: {accuracy:.4f}\")\n",
    "torch.save(model.state_dict(), \"cube_offer_model.pth\")"
   ]
  }
 ],
 "metadata": {
  "kernelspec": {
   "display_name": "Python 3",
   "language": "python",
   "name": "python3"
  },
  "language_info": {
   "codemirror_mode": {
    "name": "ipython",
    "version": 3
   },
   "file_extension": ".py",
   "mimetype": "text/x-python",
   "name": "python",
   "nbconvert_exporter": "python",
   "pygments_lexer": "ipython3",
   "version": "3.9.12"
  }
 },
 "nbformat": 4,
 "nbformat_minor": 2
}
